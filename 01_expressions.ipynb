{
  "nbformat": 4,
  "nbformat_minor": 0,
  "metadata": {
    "colab": {
      "provenance": [],
      "authorship_tag": "ABX9TyPmw05iAUALLrNyAwI+t8Ne",
      "include_colab_link": true
    },
    "kernelspec": {
      "name": "python3",
      "display_name": "Python 3"
    },
    "language_info": {
      "name": "python"
    }
  },
  "cells": [
    {
      "cell_type": "markdown",
      "metadata": {
        "id": "view-in-github",
        "colab_type": "text"
      },
      "source": [
        "<a href=\"https://colab.research.google.com/github/sana575/Assignment_04/blob/main/01_expressions.ipynb\" target=\"_parent\"><img src=\"https://colab.research.google.com/assets/colab-badge.svg\" alt=\"Open In Colab\"/></a>"
      ]
    },
    {
      "cell_type": "code",
      "source": [
        "import random\n",
        "\n",
        "print(\"01_dicesimulator:\")\n",
        "\n",
        "def roll_dice():\n",
        "  die1:int = random.randint(1,6)\n",
        "  die2:int = random.randint(1,6)\n",
        "  total:int = die1 + die2\n",
        "  print(f'Total of two dies: {total}')\n",
        "\n",
        "def main():\n",
        "  die1:int = 10\n",
        "  print(\"diel in start as: \" + str(die1))\n",
        "  roll_dice()\n",
        "  roll_dice()\n",
        "  roll_dice()\n",
        "  print(\"diel main() is:\" + str(die1))\n",
        "if __name__==\"__main__\":\n",
        "  main()"
      ],
      "metadata": {
        "colab": {
          "base_uri": "https://localhost:8080/"
        },
        "id": "qBOhA_t5zwfq",
        "outputId": "f6194474-a78a-4e85-899c-d3eb12146993"
      },
      "execution_count": null,
      "outputs": [
        {
          "output_type": "stream",
          "name": "stdout",
          "text": [
            "01_dicesimulator:\n",
            "diel in start as: 10\n",
            "Total of two dies: 11\n",
            "Total of two dies: 5\n",
            "Total of two dies: 8\n",
            "diel main() is:10\n"
          ]
        }
      ]
    },
    {
      "cell_type": "code",
      "source": [
        "print(\"02_e=mc2:\")\n",
        "\n",
        "def energy():\n",
        "  c:float =  299792458\n",
        "  m:float = float(input(\"Enter kilos of: \"))\n",
        "  print(\"e = m*c^2\")\n",
        "  print(\"Mass = \" + str(m) + \" kg\")\n",
        "  print(\"C =\" + str(m) + \" m/s\")\n",
        "  print(\"e =\" + str(m * c ** 2) + \" jules\")\n",
        "\n",
        "if __name__==\"__main__\":\n",
        "  energy()"
      ],
      "metadata": {
        "colab": {
          "base_uri": "https://localhost:8080/"
        },
        "id": "GbSdvH8B4YiP",
        "outputId": "17ccbcaa-4f16-4a99-f80c-e49a086c48ff"
      },
      "execution_count": null,
      "outputs": [
        {
          "output_type": "stream",
          "name": "stdout",
          "text": [
            "02_e=mc2:\n",
            "Enter kilos of: 130\n",
            "e = m*c^2\n",
            "Mass = 130.0 kg\n",
            "C =130.0 m/s\n",
            "e =1.1683817323578628e+19 jules\n"
          ]
        }
      ]
    },
    {
      "cell_type": "code",
      "source": [
        "print(\"03_feet_to_ inches:\")\n",
        "\n",
        "inch:int = 12\n",
        "\n",
        "def foot():\n",
        "  feet:int = int(input(\"Enter feet and i will convert into inches: \"))\n",
        "  print(f\"ther are {inch * feet} inches in {feet} feet.\")\n",
        "\n",
        "if __name__==\"__main__\":\n",
        "  foot()"
      ],
      "metadata": {
        "colab": {
          "base_uri": "https://localhost:8080/"
        },
        "id": "BgoUVLHWCMK_",
        "outputId": "18dd408b-130b-4fba-e3c0-98d557286856"
      },
      "execution_count": null,
      "outputs": [
        {
          "output_type": "stream",
          "name": "stdout",
          "text": [
            "03_feet_to_ inches\n",
            "Enter feet and i will convert into inches: 2\n",
            "ther are 24 inches in 2 feet.\n"
          ]
        }
      ]
    },
    {
      "cell_type": "code",
      "source": [
        "import math\n",
        "print(\"04_pythagoream_theorem\")\n",
        "\n",
        "def triangle():\n",
        "  ab:float = float(input(\"Enter the length of side ab: \"))\n",
        "  ac:float = float(input(\"Enter the length of side ac: \"))\n",
        "  bc:float = math.sqrt(ab**2 + ac**2)\n",
        "  print(f\"The length of bc (the hypothenuse is: {bc})\")\n",
        "\n",
        "if __name__==\"__main__\":\n",
        "  triangle()"
      ],
      "metadata": {
        "colab": {
          "base_uri": "https://localhost:8080/"
        },
        "id": "1ZLGa25fFvEe",
        "outputId": "a7001e18-5225-41df-be41-a5a095e319a6"
      },
      "execution_count": null,
      "outputs": [
        {
          "output_type": "stream",
          "name": "stdout",
          "text": [
            "04_pythagoream_theorem\n",
            "Enter the length of side ab: 3\n",
            "Enter the length of side ac: 7\n",
            "The length of bc (the hypothenuse is: 7.615773105863909)\n"
          ]
        }
      ]
    },
    {
      "cell_type": "code",
      "source": [
        "print(\"05_remainder_division:\")\n",
        "\n",
        "def remainder():\n",
        "  num1:int = int(input(\"Enter an integer to be divided: \"))\n",
        "  num2:int = int(input(\"Enter an integer to divide by: \"))\n",
        "  quotient:int = num1 // num2\n",
        "  remainder:int = num1 % num2\n",
        "  print(f\"{num1} divided by {num2} is {quotient} with remainder {remainder}\")\n",
        "\n",
        "if __name__==\"__main__\":\n",
        "  remainder()"
      ],
      "metadata": {
        "id": "UK5t9_PdJWV7",
        "colab": {
          "base_uri": "https://localhost:8080/"
        },
        "outputId": "b7878391-109e-4c38-8446-02efdbf162d9"
      },
      "execution_count": null,
      "outputs": [
        {
          "output_type": "stream",
          "name": "stdout",
          "text": [
            "05_remainder_division:\n",
            "Enter an integer to be divided: 45\n",
            "Enter an integer to divide by: 2\n",
            "45 divided by 2 is 22 with remainder 1\n"
          ]
        }
      ]
    },
    {
      "cell_type": "code",
      "source": [
        "import random\n",
        "print(\"06_rolldice:\")\n",
        "\n",
        "def dice():\n",
        "  die1:int = random.randint(1,6)\n",
        "  die2:int = random.randint(1,6)\n",
        "  total:int = int(die1 + die2)\n",
        "  print(\"Frist die: \" + str(die1))\n",
        "  print(\"Second die: \" + str(die2))\n",
        "  print(\"Total: \" + str(total))\n",
        "\n",
        "if __name__==\"__main__\":\n",
        "  dice()"
      ],
      "metadata": {
        "colab": {
          "base_uri": "https://localhost:8080/"
        },
        "id": "se3KgJ7aM2jo",
        "outputId": "90870fae-d6c1-499e-e47b-9113dc5b4a66"
      },
      "execution_count": null,
      "outputs": [
        {
          "output_type": "stream",
          "name": "stdout",
          "text": [
            "06_rolldice:\n",
            "Frist die: 6\n",
            "Second die: 3\n",
            "Total: 9\n"
          ]
        }
      ]
    },
    {
      "cell_type": "code",
      "source": [
        "print(\"07_seconds_in_year\")\n",
        "DAYS_PER_YEAR: int = 365\n",
        "HOURS_PER_DAY: int = 24\n",
        "MIN_PER_HOUR: int = 60\n",
        "SEC_PER_MIN: int = 60\n",
        "\n",
        "def seconds():\n",
        "   print(\"there are\", DAYS_PER_YEAR * HOURS_PER_DAY * MIN_PER_HOUR * SEC_PER_MIN, \"seconds in a year\")\n",
        "\n",
        "if __name__==\"__main__\":\n",
        "  seconds()\n",
        "\n",
        "\n"
      ],
      "metadata": {
        "colab": {
          "base_uri": "https://localhost:8080/"
        },
        "id": "iTJMkD8zig7g",
        "outputId": "92186b66-6d46-4586-d642-99abf00ce4fc"
      },
      "execution_count": null,
      "outputs": [
        {
          "output_type": "stream",
          "name": "stdout",
          "text": [
            "07_seconds_in_year\n",
            "there are 31536000 seconds in a year\n"
          ]
        }
      ]
    },
    {
      "cell_type": "code",
      "source": [
        "print(\"tiny_mad_lib\")\n",
        "\n",
        "def mad_lib():\n",
        "  noun:str = input(\"Enter a noun: \")\n",
        "  adjective:str = input(\"Enter an adjective: \")\n",
        "  verb:str = input(\"Enter a verb: \")\n",
        "  print(f\"Do you {verb} your {adjective} {noun}? That's hilarious!\")\n",
        "\n",
        "if __name__==\"__main__\":\n",
        "  mad_lib()"
      ],
      "metadata": {
        "colab": {
          "base_uri": "https://localhost:8080/"
        },
        "id": "DzXA8wwnlGAG",
        "outputId": "b64f14bb-b964-4086-8525-dac2d2176f24"
      },
      "execution_count": null,
      "outputs": [
        {
          "output_type": "stream",
          "name": "stdout",
          "text": [
            "tiny_mad_lib\n",
            "Enter a noun: cat\n",
            "Enter an adjective: cute\n",
            "Enter a verb: sleep\n",
            "Do you sleep your cute cat? That's hilarious!\n"
          ]
        }
      ]
    }
  ]
}