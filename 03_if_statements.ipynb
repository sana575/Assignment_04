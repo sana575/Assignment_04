{
  "nbformat": 4,
  "nbformat_minor": 0,
  "metadata": {
    "colab": {
      "provenance": [],
      "authorship_tag": "ABX9TyM/LC9HPPnnR4FUbbS3q78S",
      "include_colab_link": true
    },
    "kernelspec": {
      "name": "python3",
      "display_name": "Python 3"
    },
    "language_info": {
      "name": "python"
    }
  },
  "cells": [
    {
      "cell_type": "markdown",
      "metadata": {
        "id": "view-in-github",
        "colab_type": "text"
      },
      "source": [
        "<a href=\"https://colab.research.google.com/github/sana575/Assignment_04/blob/main/03_if_statements.ipynb\" target=\"_parent\"><img src=\"https://colab.research.google.com/assets/colab-badge.svg\" alt=\"Open In Colab\"/></a>"
      ]
    },
    {
      "cell_type": "code",
      "execution_count": null,
      "metadata": {
        "id": "sM5_z4c2L7Kw",
        "outputId": "9650bfde-0f03-4743-d550-02aacbc5cc2d",
        "colab": {
          "base_uri": "https://localhost:8080/"
        }
      },
      "outputs": [
        {
          "output_type": "stream",
          "name": "stdout",
          "text": [
            "01_print_20_even_number:\n",
            "0 2 4 6 8 10 12 14 16 18 20 22 24 26 28 30 32 34 36 38 "
          ]
        }
      ],
      "source": [
        "print(\"01_print_20_even_number:\")\n",
        "\n",
        "def main():\n",
        "\n",
        "  for i in range(20):\n",
        "    print(i * 2, end=\" \")\n",
        "\n",
        "if __name__ == \"__main__\":\n",
        "    main()\n"
      ]
    },
    {
      "source": [
        "print(\"02_international_voting\")\n",
        "\n",
        "Peturksbouipo: int = 16\n",
        "Stanlau: int = 25\n",
        "Mayengua: int = 48\n",
        "user_age: int = int(input(\"Enter your age: \"))  # Convert input to int\n",
        "\n",
        "def main():\n",
        "  if user_age >= Peturksbouipo:\n",
        "    print(f\"You age is {user_age} you are eligible to vote in peturksbouipo! \")\n",
        "  else:\n",
        "     print(f\"You age is {user_age} you are not eligible to vote in peturksbouipo! \")\n",
        "\n",
        "if user_age >= Stanlau:\n",
        "    print(f\"You age is {user_age} you are eligible to vote in stanlau! \")\n",
        "else:\n",
        "     print(f\"You age is {user_age} you are not eligible to vote in stanlau! \")\n",
        "\n",
        "if user_age >= Mayengua:\n",
        "    print(f\"You age is {user_age} you are eligible to vote in mayengua! \")\n",
        "else:\n",
        "     print(f\"You age is {user_age} you are not eligible to vote in mayengua! \")\n",
        "\n",
        "if __name__ == \"__main__\":\n",
        "    main()"
      ],
      "cell_type": "code",
      "metadata": {
        "colab": {
          "base_uri": "https://localhost:8080/"
        },
        "id": "kitxsDFgfg9u",
        "outputId": "b0d27b31-83ed-4b24-f7ea-5f7aa827c1f2"
      },
      "execution_count": null,
      "outputs": [
        {
          "output_type": "stream",
          "name": "stdout",
          "text": [
            "02_international_voting\n",
            "Enter your age: 45\n",
            "You age is 45 you are eligible to vote in stanlau \n",
            "You age is 45 you are not eligible to vote in mayengua \n",
            "You age is 45 you are eligible to vote in peturksbouipo \n"
          ]
        }
      ]
    },
    {
      "cell_type": "code",
      "source": [
        "print(\"03_leap_year\")\n",
        "\n",
        "def main():\n",
        "    # Get the year to check from the user\n",
        "    year = int(input('Please input a year: '))\n",
        "\n",
        "    if year % 4 == 0:  # Checking whether the provided year is evenly divisibly by 4\n",
        "        if year % 100 == 0:  # Checking whether the provided year is evenly divisibly by 100\n",
        "            if year % 400 == 0:  # Checking whether the provided year is evenly divisibly by 400\n",
        "                print(\"That's a leap year!\")\n",
        "            else:  # (Not divisible by 400)\n",
        "                print(\"That's not a leap year.\")\n",
        "        else:  # (Not divisible by 100)\n",
        "            print(\"That's a leap year!\")\n",
        "    else:  # (Not divisible by 4)\n",
        "        print(\"That's not a leap year.\")\n",
        "\n",
        "\n",
        "\n",
        "if __name__ == '__main__':\n",
        "    main()\n"
      ],
      "metadata": {
        "colab": {
          "base_uri": "https://localhost:8080/"
        },
        "id": "rn3nogTLhDTY",
        "outputId": "abc0cd19-0024-45b1-8097-52c4e85256de"
      },
      "execution_count": null,
      "outputs": [
        {
          "output_type": "stream",
          "name": "stdout",
          "text": [
            "03_leap_year\n",
            "Please input a year: 2023\n",
            "That's not a leap year.\n"
          ]
        }
      ]
    },
    {
      "cell_type": "code",
      "source": [
        "print(\"04_tall_enough_to_ride:\")\n",
        "\n",
        "min_height:int = 50\n",
        "def main():\n",
        "  height:int = int(input(\"How tall are you? \"))\n",
        "  if height >= min_height:\n",
        "    print(\"You are tall enough to ride.\")\n",
        "  else:\n",
        "    print(\"You are not tall enough to ride. but maybe nxt year.\")\n",
        "\n",
        "if __name__ == \"__main__\":\n",
        "    main()"
      ],
      "metadata": {
        "colab": {
          "base_uri": "https://localhost:8080/"
        },
        "id": "sgepnBGrkpjS",
        "outputId": "9de2525f-7a8c-4b5a-93bf-389fd540a46e"
      },
      "execution_count": null,
      "outputs": [
        {
          "output_type": "stream",
          "name": "stdout",
          "text": [
            "04_tall_enough_to_ride:\n",
            "Please input your height: 60\n",
            "You are tall enough to ride.\n"
          ]
        }
      ]
    },
    {
      "cell_type": "code",
      "source": [
        "print(\"05_random_numbers\")\n",
        "\n",
        "import random\n",
        "\n",
        "def main():\n",
        "  for i in range(10):\n",
        "    num:list[int] =  random.randint(1,100)\n",
        "    print(num, end=\" \")\n",
        "\n",
        "if __name__ == \"__main__\":\n",
        "  main()\n",
        "\n"
      ],
      "metadata": {
        "id": "FfbwqVdUnx_y",
        "colab": {
          "base_uri": "https://localhost:8080/"
        },
        "outputId": "4399ec9a-6401-4a8b-8ebf-b6b10e4b664a"
      },
      "execution_count": 2,
      "outputs": [
        {
          "output_type": "stream",
          "name": "stdout",
          "text": [
            "05_random_numbers\n",
            "4 67 38 83 71 3 41 4 75 96 "
          ]
        }
      ]
    }
  ]
}