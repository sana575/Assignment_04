{
  "nbformat": 4,
  "nbformat_minor": 0,
  "metadata": {
    "colab": {
      "provenance": [],
      "authorship_tag": "ABX9TyPbLmwBvBM2Yfn3sFdV9kMH",
      "include_colab_link": true
    },
    "kernelspec": {
      "name": "python3",
      "display_name": "Python 3"
    },
    "language_info": {
      "name": "python"
    }
  },
  "cells": [
    {
      "cell_type": "markdown",
      "metadata": {
        "id": "view-in-github",
        "colab_type": "text"
      },
      "source": [
        "<a href=\"https://colab.research.google.com/github/sana575/Assignment_04/blob/main/Project_06_countdown_timer.ipynb\" target=\"_parent\"><img src=\"https://colab.research.google.com/assets/colab-badge.svg\" alt=\"Open In Colab\"/></a>"
      ]
    },
    {
      "cell_type": "markdown",
      "source": [
        "# Project_06_countdown_timer_python"
      ],
      "metadata": {
        "id": "-TOQsgjO_o3D"
      }
    },
    {
      "cell_type": "code",
      "execution_count": null,
      "metadata": {
        "id": "YyoXIM7-KxwT",
        "colab": {
          "base_uri": "https://localhost:8080/"
        },
        "outputId": "7a82d405-6974-453a-c9ad-5b436454b50d"
      },
      "outputs": [
        {
          "output_type": "stream",
          "name": "stdout",
          "text": [
            "00:10\n",
            "00:09\n",
            "00:08\n",
            "00:07\n",
            "00:06\n",
            "00:05\n",
            "00:04\n",
            "00:03\n",
            "00:02\n",
            "00:01\n",
            "00:00\n",
            "Time's up!\n"
          ]
        }
      ],
      "source": [
        "\n",
        "import time\n",
        "\n",
        "def countdown(second):\n",
        "  mins = second // 60\n",
        "  seconds = second % 60\n",
        "  print(f\"{mins:02d}:{seconds:02d}\", end='\\n')\n",
        "  time.sleep(1)\n",
        "  seconds -= 1\n",
        "  if seconds >=0:\n",
        "    countdown(seconds)\n",
        "  else:\n",
        "    print(\"Time's up!\")\n",
        "if __name__ == \"__main__\":\n",
        "  countdown(10)\n"
      ]
    }
  ]
}