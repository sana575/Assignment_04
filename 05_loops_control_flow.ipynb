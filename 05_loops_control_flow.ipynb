{
  "nbformat": 4,
  "nbformat_minor": 0,
  "metadata": {
    "colab": {
      "provenance": [],
      "authorship_tag": "ABX9TyM/+6hjb+KtB/kZecCFJaw3",
      "include_colab_link": true
    },
    "kernelspec": {
      "name": "python3",
      "display_name": "Python 3"
    },
    "language_info": {
      "name": "python"
    }
  },
  "cells": [
    {
      "cell_type": "markdown",
      "metadata": {
        "id": "view-in-github",
        "colab_type": "text"
      },
      "source": [
        "<a href=\"https://colab.research.google.com/github/sana575/Assignment_04/blob/main/05_loops_control_flow.ipynb\" target=\"_parent\"><img src=\"https://colab.research.google.com/assets/colab-badge.svg\" alt=\"Open In Colab\"/></a>"
      ]
    },
    {
      "cell_type": "code",
      "source": [
        "import random\n",
        "\n",
        "print(\"00_guess_my_number.\")\n",
        "def main():\n",
        "  secret_number = random.randint(1, 100)\n",
        "  print(\"I'm thinking of a number between 1 and 100.......\")\n",
        "  guess = int(input(\"Enter a guess number: \"))\n",
        "  while guess != secret_number:\n",
        "    if guess < secret_number:\n",
        "      print(\"your guess number is too low\")\n",
        "    else:\n",
        "      print(\"your guess number too higth\")\n",
        "    guess = int(input(\"Enter a  number: \"))\n",
        "  print(\"Congratulations! You guessed the number!\")\n",
        "\n",
        "if __name__ == \"__main__\":\n",
        "  main()\n",
        "\n"
      ],
      "metadata": {
        "colab": {
          "base_uri": "https://localhost:8080/"
        },
        "id": "rK-ldcv_k7GP",
        "outputId": "c263a510-984a-4680-9c1a-97aef152d296"
      },
      "execution_count": 8,
      "outputs": [
        {
          "output_type": "stream",
          "name": "stdout",
          "text": [
            "00_guess_my_number.\n",
            "I'm thinking of a number between 1 and 100.......\n",
            "Enter a guess number: 20\n",
            "your guess number too higth\n",
            "Enter a  number: 18\n",
            "your guess number too higth\n",
            "Enter a  number: 15\n",
            "your guess number too higth\n",
            "Enter a  number: 12\n",
            "your guess number too higth\n",
            "Enter a  number: 9\n",
            "your guess number is too low\n",
            "Enter a  number: 10\n",
            "your guess number is too low\n",
            "Enter a  number: 11\n",
            "Congratulations! You guessed the number!\n"
          ]
        }
      ]
    },
    {
      "cell_type": "code",
      "source": [
        "\n",
        "print(\"01_fibonacci\")\n",
        "\n",
        "max_value = 10000\n",
        "\n",
        "def main():\n",
        "  a,b = 0,1\n",
        "  print(a,b, end= \" \")\n",
        "\n",
        "  while True:\n",
        "    c = a+b\n",
        "    if c >= max_value:\n",
        "      break\n",
        "    print(c, end=\" \")\n",
        "    a,b = b,c\n",
        "\n",
        "if __name__ == \"__main__\":\n",
        "  main()"
      ],
      "metadata": {
        "colab": {
          "base_uri": "https://localhost:8080/"
        },
        "id": "V1MVGOrWk6TY",
        "outputId": "1ca5bc6f-0725-443d-97f0-8fe51b2fc397"
      },
      "execution_count": 9,
      "outputs": [
        {
          "output_type": "stream",
          "name": "stdout",
          "text": [
            "01_fibonacci\n",
            "0 1 1 2 3 5 8 13 21 34 55 89 144 233 377 610 987 1597 2584 4181 6765 "
          ]
        }
      ]
    },
    {
      "cell_type": "code",
      "source": [
        "\n",
        "print(\"02_print_events\")\n",
        "\n",
        "def main():\n",
        "  for i in range(20):\n",
        "    print(i*2, end=\" \")\n",
        "\n",
        "if __name__ == \"__main__\":\n",
        "  main()\n"
      ],
      "metadata": {
        "colab": {
          "base_uri": "https://localhost:8080/"
        },
        "id": "4fuwQyWtk5m3",
        "outputId": "6d665723-d15e-411d-a591-f3bd6f453e07"
      },
      "execution_count": 10,
      "outputs": [
        {
          "output_type": "stream",
          "name": "stdout",
          "text": [
            "02_print_events\n",
            "0 2 4 6 8 10 12 14 16 18 20 22 24 26 28 30 32 34 36 38 "
          ]
        }
      ]
    },
    {
      "cell_type": "code",
      "source": [
        "print(\"03_wholesome_machine\")\n",
        "\n",
        "correct_affermation = \"I am capable of doing anything. I put my mind too.\"\n",
        "\n",
        "def main():\n",
        "  print(\"Welcome to the Wholesome Machine\")\n",
        "  while True:\n",
        "    user_input = input(\"Please type the following affermation:\" + correct_affermation)\n",
        "    if user_input == correct_affermation:\n",
        "      print(\"That\\'s right! \")\n",
        "      break\n",
        "    else:\n",
        "      print(\"Hmmm That was not the affermation. Please Try Again!\")\n",
        "\n",
        "if __name__ == \"__main__\":\n",
        "  main()"
      ],
      "metadata": {
        "colab": {
          "base_uri": "https://localhost:8080/"
        },
        "id": "2jEAclvKkuyR",
        "outputId": "acf6a81d-9c36-4842-a92f-84037db6e574"
      },
      "execution_count": 12,
      "outputs": [
        {
          "output_type": "stream",
          "name": "stdout",
          "text": [
            "03_wholesome_machine\n",
            "Welcome to the Wholesome Machine\n",
            "Please type the following affermation:I am capable of doing anything. I put my mind too.ok\n",
            "Hmmm That was not the affermation. Please Try Again!\n",
            "Please type the following affermation:I am capable of doing anything. I put my mind too.I am capable of doing anything. I put my mind too.\n",
            "That's right! \n"
          ]
        }
      ]
    },
    {
      "cell_type": "code",
      "source": [
        "\n",
        "print(\"04_Liftoff: \")\n",
        "\n",
        "def countdown1():\n",
        "  for i in range(10, 0, -1):\n",
        "    print(i , end=\" \")\n",
        "  print(\"Liftoff!\")\n",
        "if __name__ == \"__main__\":\n",
        "  countdown1()\n",
        "\n",
        "#list and for loop second method\n",
        "\n",
        "number_list: list[int] = [10,9,8,7,6,5,4,3,2,1]\n",
        "def countdown2():\n",
        "  for i in number_list:\n",
        "    print(i, end=\" \")\n",
        "  print(\"Liftoff!\")\n",
        "\n",
        "if __name__ == \"__main__\":\n",
        "  countdown2()\n",
        "\n"
      ],
      "metadata": {
        "colab": {
          "base_uri": "https://localhost:8080/"
        },
        "id": "xTuciEQHEwaN",
        "outputId": "58b37728-e675-465f-adc1-39cc8402a3fb"
      },
      "execution_count": null,
      "outputs": [
        {
          "output_type": "stream",
          "name": "stdout",
          "text": [
            "04_Liftoff: \n",
            "10 9 8 7 6 5 4 3 2 1 Liftoff!\n",
            "10 9 8 7 6 5 4 3 2 1 Liftoff!\n"
          ]
        }
      ]
    },
    {
      "cell_type": "code",
      "execution_count": null,
      "metadata": {
        "id": "HItV8rq2y1x8",
        "colab": {
          "base_uri": "https://localhost:8080/"
        },
        "outputId": "187e64bd-83f5-48fb-a3b1-d7f84142856c"
      },
      "outputs": [
        {
          "output_type": "stream",
          "name": "stdout",
          "text": [
            "05_double_it: \n",
            "Enter a Number: 5\n",
            "10 20 40 80 160 "
          ]
        }
      ],
      "source": [
        "print(\"05_double_it: \")\n",
        "\n",
        "def double_it():\n",
        "   user_input = int(input(\"Enter a Number: \"))\n",
        "\n",
        "   while user_input <= 100:\n",
        "    user_input = 2 * user_input\n",
        "    print(user_input, end=\" \")\n",
        "\n",
        "if __name__ == \"__main__\":\n",
        "  double_it()\n"
      ]
    }
  ]
}