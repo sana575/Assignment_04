{
  "nbformat": 4,
  "nbformat_minor": 0,
  "metadata": {
    "colab": {
      "provenance": [],
      "authorship_tag": "ABX9TyOY17vaNVU31WqtsowX7cEN",
      "include_colab_link": true
    },
    "kernelspec": {
      "name": "python3",
      "display_name": "Python 3"
    },
    "language_info": {
      "name": "python"
    }
  },
  "cells": [
    {
      "cell_type": "markdown",
      "metadata": {
        "id": "view-in-github",
        "colab_type": "text"
      },
      "source": [
        "<a href=\"https://colab.research.google.com/github/sana575/Assignment_04/blob/main/Project_02_Guess_the_Number_Game_(computer).ipynb\" target=\"_parent\"><img src=\"https://colab.research.google.com/assets/colab-badge.svg\" alt=\"Open In Colab\"/></a>"
      ]
    },
    {
      "cell_type": "markdown",
      "source": [
        "# Project_02_Guess_the_Number_Game_(computer)"
      ],
      "metadata": {
        "id": "qrqH1O0R8SoL"
      }
    },
    {
      "cell_type": "code",
      "execution_count": null,
      "metadata": {
        "colab": {
          "base_uri": "https://localhost:8080/"
        },
        "id": "C3jQOCyD88i1",
        "outputId": "d2b6ed84-bfd9-4f79-8aa1-908f96dc1b84"
      },
      "outputs": [
        {
          "name": "stdout",
          "output_type": "stream",
          "text": [
            "\n",
            " ✨Welcome to the Number Guessing Game.✨ \n",
            "\n",
            "\n",
            " 💻 Computer Guess the Number. \n",
            "\n",
            "🤔 Think of a number between 1 and 10, and 💻 will try to guess it!\n",
            "🤖 Is your number 6?\n",
            " 👉 Enter 'h' to indicate the guess is too high, 'l' to indicate the guess is too low, or 'c' to indicate I guessed correctly: h\n"
          ]
        }
      ],
      "source": [
        "import random\n",
        "print(\"\\n ✨Welcome to the Number Guessing Game.✨ \\n\")\n",
        "print(\"\\n 💻 Computer Guess the Number. \\n\")\n",
        "\n",
        "low = 1\n",
        "high = 10\n",
        "\n",
        "print(\"🤔 Think of a number between 1 and 10, and 💻 will try to guess it!\")\n",
        "if low <= high:\n",
        "    guess = random.randint(low,high)\n",
        "    print(f\"🤖 Is your number {guess}?\")\n",
        "\n",
        "    feedback=input(\" 👉 Enter 'h' to indicate the guess is too high, 'l' to indicate the guess is too low, or 'c' to indicate I guessed correctly: \").lower()\n",
        "    if feedback=='h':\n",
        "      high = guess - 1\n",
        "    elif feedback == 'l':\n",
        "      low = guess + 1\n",
        "    elif feedback == 'c':\n",
        "      print(f\"🎉 🎉🎉🎉🎉 Yay! 💻 guess the {guess} correctly. 🎉 🎉🎉🎉🎉\")\n",
        "    else:\n",
        "      print(\"⚠️ Invalid input. Please enter only 'h', 'l', or 'c'. 🚫\")\n",
        "\n",
        "if low > high:\n",
        "      print(\"😅 Hmm... It seems there was a misunderstanding. Let's try again! 🔄\")\n"
      ]
    }
  ]
}