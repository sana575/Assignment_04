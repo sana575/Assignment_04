{
  "nbformat": 4,
  "nbformat_minor": 0,
  "metadata": {
    "colab": {
      "provenance": [],
      "authorship_tag": "ABX9TyMYStGrTWkMRURchyl+v3fO",
      "include_colab_link": true
    },
    "kernelspec": {
      "name": "python3",
      "display_name": "Python 3"
    },
    "language_info": {
      "name": "python"
    }
  },
  "cells": [
    {
      "cell_type": "markdown",
      "metadata": {
        "id": "view-in-github",
        "colab_type": "text"
      },
      "source": [
        "<a href=\"https://colab.research.google.com/github/sana575/Assignment_04/blob/main/online_class_projects_01_basics.ipynb\" target=\"_parent\"><img src=\"https://colab.research.google.com/assets/colab-badge.svg\" alt=\"Open In Colab\"/></a>"
      ]
    },
    {
      "cell_type": "code",
      "execution_count": 2,
      "metadata": {
        "colab": {
          "base_uri": "https://localhost:8080/"
        },
        "id": "NCxGSikEynJc",
        "outputId": "7e9ea524-b69d-4393-f626-1679add55488"
      },
      "outputs": [
        {
          "output_type": "stream",
          "name": "stdout",
          "text": [
            "00_joke_bot\n",
            "Whate do you want?joke\n",
            "joke\n",
            "why did the scarecrow win an award? Beacuse he was outstanding in his field!\n"
          ]
        }
      ],
      "source": [
        "#Constants\n",
        "PROMPT:str = \"Whate do you want?\"\n",
        "JOKE:str = \"why did the scarecrow win an award? Beacuse he was outstanding in his field!\"\n",
        "\n",
        "print(\"00_joke_bot\")\n",
        "\n",
        "# Define a founction\n",
        "\n",
        "def joke_bot():\n",
        "  user_input = input(PROMPT)\n",
        "  print(user_input)\n",
        "\n",
        "#if else statements\n",
        "\n",
        "  if user_input.lower() == \"joke\":\n",
        "    print(JOKE)\n",
        "  else:\n",
        "    print(\"Sorry, I only tell jokes\")\n",
        "\n",
        "if __name__ ==\"__main__\":\n",
        "  joke_bot()\n"
      ]
    },
    {
      "cell_type": "code",
      "source": [
        "print(\"01_double_it\")\n",
        "\n",
        "# 1.Get user input, type cast\n",
        "\n",
        "def double_it():\n",
        "  user_input = int(input(\"Enter a number: \"))\n",
        "\n",
        "#loop: while & for\n",
        "\n",
        "  while user_input <= 100:\n",
        "    user_input = 2 * user_input\n",
        "    print(user_input, end=\" \")\n",
        "\n",
        "if __name__ == \"__main__\":\n",
        "  double_it()\n",
        "\n",
        "\n",
        "\n"
      ],
      "metadata": {
        "colab": {
          "base_uri": "https://localhost:8080/"
        },
        "id": "jwyVduam8Tnh",
        "outputId": "ace9a664-8600-41b6-f858-057fc189d3d7"
      },
      "execution_count": 10,
      "outputs": [
        {
          "output_type": "stream",
          "name": "stdout",
          "text": [
            "01_double_it\n",
            "Enter a number: 4\n",
            "8 16 32 64 128 "
          ]
        }
      ]
    },
    {
      "cell_type": "code",
      "source": [
        "\n",
        "\n",
        "print(\"02_Liftoff: \")\n",
        "\n",
        "def countdown1():\n",
        "  for i in range(10, 0, -1):\n",
        "    print(i , end=\" \")\n",
        "  print(\"Liftoff!\")\n",
        "if __name__ == \"__main__\":\n",
        "  countdown1()\n",
        "\n",
        "#list and for loop second method\n",
        "\n",
        "number_list: list[int] = [10,9,8,7,6,5,4,3,2,1]\n",
        "def countdown2():\n",
        "  for i in number_list:\n",
        "    print(i, end=\" \")\n",
        "  print(\"Liftoff!\")\n",
        "\n",
        "if __name__ == \"__main__\":\n",
        "  countdown2()"
      ],
      "metadata": {
        "colab": {
          "base_uri": "https://localhost:8080/"
        },
        "id": "B1Qln8Y9CwCb",
        "outputId": "ea103eaf-1f78-40c7-baec-6e02dc8d28ae"
      },
      "execution_count": 11,
      "outputs": [
        {
          "output_type": "stream",
          "name": "stdout",
          "text": [
            "04_Liftoff: \n",
            "10 9 8 7 6 5 4 3 2 1 Liftoff!\n",
            "10 9 8 7 6 5 4 3 2 1 Liftoff!\n"
          ]
        }
      ]
    },
    {
      "cell_type": "code",
      "source": [
        "print(\"05_double_it: \")\n",
        "\n",
        "def double_it():\n",
        "   user_input = int(input(\"Enter a Number: \"))\n",
        "\n",
        "   while user_input <= 100:\n",
        "    user_input = 2 * user_input\n",
        "    print(user_input, end=\" \")\n",
        "\n",
        "if __name__ == \"__main__\":\n",
        "  double_it()"
      ],
      "metadata": {
        "colab": {
          "base_uri": "https://localhost:8080/"
        },
        "id": "nFBrmaTiftk2",
        "outputId": "49b03c02-ac04-4b6c-93b4-f4a0ababe707"
      },
      "execution_count": 50,
      "outputs": [
        {
          "output_type": "stream",
          "name": "stdout",
          "text": [
            "05_double_it: \n",
            "Enter a Number: 4\n",
            "8 16 32 64 128 "
          ]
        }
      ]
    },
    {
      "cell_type": "code",
      "source": [
        "\n",
        "\n",
        "import random\n",
        "\n",
        "print(\"04_guess_my_number.\")\n",
        "def main():\n",
        "  secret_number = random.randint(1, 100)\n",
        "  print(\"I'm thinking of a number between 1 and 100.......\")\n",
        "  guess = int(input(\"Enter a guess number: \"))\n",
        "  while guess != secret_number:\n",
        "    if guess < secret_number:\n",
        "      print(\"your guess number is too low\")\n",
        "    else:\n",
        "      print(\"your guess number too higth\")\n",
        "    guess = int(input(\"Enter a  number: \"))\n",
        "  print(\"Congratulations! You guessed the number!\")\n",
        "\n",
        "if __name__ == \"__main__\":\n",
        "  main()\n"
      ],
      "metadata": {
        "colab": {
          "base_uri": "https://localhost:8080/"
        },
        "id": "46S4nP1-GQ2s",
        "outputId": "a89b9691-bd56-472f-a1c1-1bdec33b6799"
      },
      "execution_count": 30,
      "outputs": [
        {
          "output_type": "stream",
          "name": "stdout",
          "text": [
            "00_guess_my_number.\n",
            "I'm thinking of a number between 1 and 100.......\n",
            "Enter a guess number: 89\n",
            "your guess number too higth\n",
            "Enter a  number: 70\n",
            "your guess number is too low\n",
            "Enter a  number: 75\n",
            "your guess number is too low\n",
            "Enter a  number: 80\n",
            "your guess number is too low\n",
            "Enter a  number: 85\n",
            "your guess number too higth\n",
            "Enter a  number: 84\n",
            "your guess number too higth\n",
            "Enter a  number: 83\n",
            "your guess number too higth\n",
            "Enter a  number: 82\n",
            "Congratulations! You guessed the number!\n"
          ]
        }
      ]
    },
    {
      "cell_type": "code",
      "source": [
        "import random\n",
        "\n",
        "print(\"05_random_number\")\n",
        "\n",
        "MIN_NUMBER: int = 1\n",
        "MAX_NUMBER: int = 100\n",
        "N_RANDOM_NUMBERS: int  = 10\n",
        "\n",
        "def random_number():\n",
        "  number_list = []\n",
        "\n",
        "  for i in range(N_RANDOM_NUMBERS):\n",
        "    number_list.append(random.randint(MIN_NUMBER, MAX_NUMBER))\n",
        "  return number_list\n",
        "\n",
        "if __name__ == \"__main__\":\n",
        "  print(*random_number())\n",
        "\n"
      ],
      "metadata": {
        "colab": {
          "base_uri": "https://localhost:8080/"
        },
        "id": "150VCohBXLXN",
        "outputId": "0157173f-b95e-4745-e534-dd33d68b33ac"
      },
      "execution_count": 44,
      "outputs": [
        {
          "output_type": "stream",
          "name": "stdout",
          "text": [
            "05_random_number\n",
            "67 13 98 42 15 49 95 89 58 31\n"
          ]
        }
      ]
    },
    {
      "cell_type": "code",
      "source": [
        " # second method ramdom_number\n",
        "print(\"05_random_number\")\n",
        "MIN_NUMBER: int = 1\n",
        "MAX_NUMBER: int = 100\n",
        "N_RANDOM_NUMBERS: int  = 10\n",
        "\n",
        "import numpy as np\n",
        "\n",
        "random_numbers = np.random.randint(MIN_NUMBER, MAX_NUMBER, N_RANDOM_NUMBERS)\n",
        "print(*random_numbers)"
      ],
      "metadata": {
        "colab": {
          "base_uri": "https://localhost:8080/"
        },
        "id": "_zV1MOm8e2T4",
        "outputId": "dad9548d-d0da-420d-f228-6725aae8da9d"
      },
      "execution_count": 49,
      "outputs": [
        {
          "output_type": "stream",
          "name": "stdout",
          "text": [
            "73 51 99 83 7 35 81 19 20 10\n"
          ]
        }
      ]
    }
  ]
}