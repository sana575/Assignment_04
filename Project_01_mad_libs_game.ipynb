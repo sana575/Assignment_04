{
  "nbformat": 4,
  "nbformat_minor": 0,
  "metadata": {
    "colab": {
      "provenance": [],
      "authorship_tag": "ABX9TyM+h1+gX9IlreRHrgWVARhG",
      "include_colab_link": true
    },
    "kernelspec": {
      "name": "python3",
      "display_name": "Python 3"
    },
    "language_info": {
      "name": "python"
    }
  },
  "cells": [
    {
      "cell_type": "markdown",
      "metadata": {
        "id": "view-in-github",
        "colab_type": "text"
      },
      "source": [
        "<a href=\"https://colab.research.google.com/github/sana575/Assignment_04/blob/main/Project_01_mad_libs_game.ipynb\" target=\"_parent\"><img src=\"https://colab.research.google.com/assets/colab-badge.svg\" alt=\"Open In Colab\"/></a>"
      ]
    },
    {
      "cell_type": "markdown",
      "source": [
        "**mad_libs_game**"
      ],
      "metadata": {
        "id": "1eKKmDENliEs"
      }
    },
    {
      "cell_type": "code",
      "execution_count": null,
      "metadata": {
        "id": "NCuRAD4KlWy8",
        "colab": {
          "base_uri": "https://localhost:8080/"
        },
        "outputId": "635a6740-bfc9-4222-81e7-2de8e9f919c2"
      },
      "outputs": [
        {
          "output_type": "stream",
          "name": "stdout",
          "text": [
            "Enter the boy's name: darain\n",
            "Enter a programming language (e.g: Python, Next.js, TypeScript, HTML): python\n",
            "Enter the mentor's name: sir hamza\n",
            "\n",
            "Here is an inspiring story based on the Mad Libs game!\n",
            "Once upon a time, in a bustling city, there was a boy named darain.\n",
            "darain was known for his insatiable curiosity and his passion for learning new things.\n",
            "Unlike other kids who spent their time playing games, darain loved exploring the world of technology.\n",
            "One day, while scrolling through the internet, he stumbled upon a fascinating topic: python.\n",
            "He was instantly hooked and decided that he must master python no matter what!\n",
            "\n",
            "Determined to excel, darain searched for the best place to learn.\n",
            "That’s when he heard about the prestigious Governor House program where students were trained in cutting-edge technologies.\n",
            "Without wasting any time, he applied and was thrilled when he got selected!\n",
            "\n",
            "But learning python was not easy. There were moments of frustration, sleepless nights, and countless errors in his code.\n",
            "darain felt overwhelmed at times, but he refused to give up. He knew that success required patience and perseverance.\n",
            "Fortunately, darain found an incredible mentor named sir hamza.\n",
            "sir hamza was an expert in python and had years of experience in guiding students towards excellence.\n",
            "\n",
            "Under sir hamza’s guidance, darain learned not just how to code, but also how to think like a true problem solver.\n",
            "sir hamza taught him that programming is not just about writing lines of code; it’s about creativity, logic, and innovation.\n",
            "Slowly but surely, darain started building projects, debugging errors, and developing confidence in his skills.\n",
            "\n",
            "After months of dedication, darain finally created his first major project—a revolutionary app using python.\n",
            "It was a proud moment, and his hard work paid off when his project was appreciated by industry experts.\n",
            "His journey from a curious beginner to a skilled programmer was nothing short of inspiring.\n",
            "\n",
            "And so, darain continued his journey, always striving for more knowledge, pushing his limits, and proving that with passion and the right guidance, anything is possible.\n",
            "The story of darain is a reminder to all of us that learning never stops, and success comes to those who are willing to work for it!\n",
            "\n",
            "The End 🎉\n"
          ]
        }
      ],
      "source": [
        "# Take input from the user\n",
        "name = input(\"Enter the boy's name: \")\n",
        "programming_language = input(\"Enter a programming language (e.g: Python, Next.js, TypeScript, HTML): \")\n",
        "mentor = input(\"Enter the mentor's name: \")\n",
        "\n",
        "# Story created\n",
        "print(\"\\nHere is an inspiring story based on the Mad Libs game!\")\n",
        "\n",
        "print(f\"Once upon a time, in a bustling city, there was a boy named {name}.\")\n",
        "print(f\"{name} was known for his insatiable curiosity and his passion for learning new things.\")\n",
        "print(f\"Unlike other kids who spent their time playing games, {name} loved exploring the world of technology.\")\n",
        "print(f\"One day, while scrolling through the internet, he stumbled upon a fascinating topic: {programming_language}.\")\n",
        "print(f\"He was instantly hooked and decided that he must master {programming_language} no matter what!\")\n",
        "\n",
        "print(f\"\\nDetermined to excel, {name} searched for the best place to learn.\")\n",
        "print(f\"That’s when he heard about the prestigious Governor House program where students were trained in cutting-edge technologies.\")\n",
        "print(f\"Without wasting any time, he applied and was thrilled when he got selected!\")\n",
        "\n",
        "print(f\"\\nBut learning {programming_language} was not easy. There were moments of frustration, sleepless nights, and countless errors in his code.\")\n",
        "print(f\"{name} felt overwhelmed at times, but he refused to give up. He knew that success required patience and perseverance.\")\n",
        "print(f\"Fortunately, {name} found an incredible mentor named {mentor}.\")\n",
        "print(f\"{mentor} was an expert in {programming_language} and had years of experience in guiding students towards excellence.\")\n",
        "\n",
        "print(f\"\\nUnder {mentor}’s guidance, {name} learned not just how to code, but also how to think like a true problem solver.\")\n",
        "print(f\"{mentor} taught him that programming is not just about writing lines of code; it’s about creativity, logic, and innovation.\")\n",
        "print(f\"Slowly but surely, {name} started building projects, debugging errors, and developing confidence in his skills.\")\n",
        "\n",
        "print(f\"\\nAfter months of dedication, {name} finally created his first major project—a revolutionary app using {programming_language}.\")\n",
        "print(f\"It was a proud moment, and his hard work paid off when his project was appreciated by industry experts.\")\n",
        "print(f\"His journey from a curious beginner to a skilled programmer was nothing short of inspiring.\")\n",
        "\n",
        "print(f\"\\nAnd so, {name} continued his journey, always striving for more knowledge, pushing his limits, and proving that with passion and the right guidance, anything is possible.\")\n",
        "print(f\"The story of {name} is a reminder to all of us that learning never stops, and success comes to those who are willing to work for it!\")\n",
        "\n",
        "print(\"\\nThe End 🎉\")\n"
      ]
    }
  ]
}