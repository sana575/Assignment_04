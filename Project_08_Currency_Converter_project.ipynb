{
  "cells": [
    {
      "cell_type": "markdown",
      "metadata": {
        "id": "view-in-github",
        "colab_type": "text"
      },
      "source": [
        "<a href=\"https://colab.research.google.com/github/sana575/Assignment_04/blob/main/Project_08_Currency_Converter_project.ipynb\" target=\"_parent\"><img src=\"https://colab.research.google.com/assets/colab-badge.svg\" alt=\"Open In Colab\"/></a>"
      ]
    },
    {
      "cell_type": "markdown",
      "source": [
        "# Project_08_Currency-Converter-project"
      ],
      "metadata": {
        "id": "abLMg7CpE_b7"
      }
    },
    {
      "cell_type": "code",
      "execution_count": null,
      "metadata": {
        "colab": {
          "base_uri": "https://localhost:8080/"
        },
        "id": "dLOx4PaWsmrM",
        "outputId": "a697d08b-9f45-420e-8dbf-43eaa9533d5a"
      },
      "outputs": [
        {
          "name": "stdout",
          "output_type": "stream",
          "text": [
            "Currency Converter\n",
            "Enter the amount: 10000\n",
            "Enter the from currency (e.g., USD, PKR, CNY, EUR, GBP): pkr\n"
          ]
        }
      ],
      "source": [
        "#conversion rates\n",
        "conversion_rates = {\n",
        "    'USD': {'PKR': 278.25, 'CNY': 39.23 / 278.25, 'EUR': 1.11, 'GBP': 1.31},\n",
        "    'PKR': {'USD': 1 / 278.25, 'CNY': 39.23 / 278.25, 'EUR': 1 / 308.37, 'GBP': 1 / 365.16},\n",
        "    'CNY': {'USD': 278.25 / 39.23, 'PKR': 39.23, 'EUR': (1 / 39.23) * 308.37, 'GBP': (1 / 39.23) * 365.16},\n",
        "    'EUR': {'USD': 1.11, 'PKR': 308.37, 'CNY': 39.23 / 308.37, 'GBP': 365.16 / 308.37},\n",
        "    'GBP': {'USD': 1.31, 'PKR': 365.16, 'CNY': 39.23 / 365.16, 'EUR': 308.37 / 365.16}\n",
        "}\n",
        "\n",
        "# Function to convert currency\n",
        "def convert_currency(amount, from_currency, to_currency):\n",
        "    try:\n",
        "        rate = conversion_rates[from_currency][to_currency]\n",
        "        converted_amount = amount * rate\n",
        "        return converted_amount\n",
        "    except KeyError:\n",
        "        print(\"Invalid currency code!\")\n",
        "        return None\n",
        "\n",
        "# Main program\n",
        "if __name__ == \"__main__\":\n",
        "    print(\"Currency Converter\")\n",
        "\n",
        "    # Take inputs from the user\n",
        "    try:\n",
        "        amount = float(input(\"Enter the amount: \"))\n",
        "        from_currency = input(\"Enter the from currency (e.g., USD, PKR, CNY, EUR, GBP): \").upper()\n",
        "        to_currency = input(\"Enter the to currency (e.g., USD, PKR, CNY, EUR, GBP): \").upper()\n",
        "\n",
        "        # Convert the currency\n",
        "        converted_amount = convert_currency(amount, from_currency, to_currency)\n",
        "\n",
        "        if converted_amount is not None:\n",
        "            print(f\"{amount} {from_currency} is equal to {converted_amount:.2f} {to_currency}\")\n",
        "    except ValueError:\n",
        "        print(\"Please enter a valid number for the amount.\")\n"
      ]
    }
  ],
  "metadata": {
    "colab": {
      "provenance": [],
      "authorship_tag": "ABX9TyPrR2KQ4tYajlbeShPFrsdk",
      "include_colab_link": true
    },
    "kernelspec": {
      "display_name": "Python 3",
      "name": "python3"
    },
    "language_info": {
      "name": "python"
    }
  },
  "nbformat": 4,
  "nbformat_minor": 0
}