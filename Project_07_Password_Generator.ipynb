{
  "nbformat": 4,
  "nbformat_minor": 0,
  "metadata": {
    "colab": {
      "provenance": [],
      "authorship_tag": "ABX9TyODqQHKqp2EbeSLx+uJGVYU",
      "include_colab_link": true
    },
    "kernelspec": {
      "name": "python3",
      "display_name": "Python 3"
    },
    "language_info": {
      "name": "python"
    }
  },
  "cells": [
    {
      "cell_type": "markdown",
      "metadata": {
        "id": "view-in-github",
        "colab_type": "text"
      },
      "source": [
        "<a href=\"https://colab.research.google.com/github/sana575/Assignment_04/blob/main/Project_07_Password_Generator.ipynb\" target=\"_parent\"><img src=\"https://colab.research.google.com/assets/colab-badge.svg\" alt=\"Open In Colab\"/></a>"
      ]
    },
    {
      "cell_type": "markdown",
      "source": [
        "# Project_07_Password_Generator"
      ],
      "metadata": {
        "id": "mGGqT4Filtn9"
      }
    },
    {
      "cell_type": "code",
      "execution_count": null,
      "metadata": {
        "id": "1uV-C9I6ijnP",
        "colab": {
          "base_uri": "https://localhost:8080/"
        },
        "outputId": "f7dbb446-bbe9-4391-a8ab-e5315e3cd4f8"
      },
      "outputs": [
        {
          "output_type": "stream",
          "name": "stdout",
          "text": [
            "Enter the desired length of the password: 9\n",
            "Generated Password: )i6ZY}F)s\n"
          ]
        }
      ],
      "source": [
        "import random\n",
        "import string\n",
        "\n",
        "def generate_password(length):\n",
        "    characters = string.ascii_letters + string.digits + string.punctuation\n",
        "    password = ''.join(random.choice(characters) for _ in range(length))\n",
        "    return password\n",
        "\n",
        "length = int(input(\"Enter the desired length of the password: \"))\n",
        "\n",
        "if __name__ == \"__main__\":\n",
        "    print(\"Generated Password:\", generate_password(length))"
      ]
    }
  ]
}