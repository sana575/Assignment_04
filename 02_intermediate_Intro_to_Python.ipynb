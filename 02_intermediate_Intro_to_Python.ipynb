{
  "cells": [
    {
      "cell_type": "markdown",
      "metadata": {
        "id": "view-in-github",
        "colab_type": "text"
      },
      "source": [
        "<a href=\"https://colab.research.google.com/github/sana575/Assignment_04/blob/main/02_intermediate_Intro_to_Python.ipynb\" target=\"_parent\"><img src=\"https://colab.research.google.com/assets/colab-badge.svg\" alt=\"Open In Colab\"/></a>"
      ]
    },
    {
      "cell_type": "code",
      "execution_count": null,
      "metadata": {
        "colab": {
          "background_save": true
        },
        "id": "dT2Mvmt0Yo0n",
        "outputId": "b7c44129-1fd4-4811-bcc5-bb1048550fec"
      },
      "outputs": [
        {
          "name": "stdout",
          "output_type": "stream",
          "text": [
            "High Low Game\n",
            "Welcome to the High Low Game\n",
            "*****************************\n",
            "Round 1\n",
            "Your number is 35\n",
            "You were right! The computer's number was 50\n",
            "Your score is now 1\n",
            "\n",
            "Round 2\n",
            "Your number is 23\n"
          ]
        }
      ],
      "source": [
        "\n",
        "import random\n",
        "print(\"High Low Game\")\n",
        "\n",
        "round = 5\n",
        "\n",
        "def main():\n",
        "  print(\"Welcome to the High Low Game\")\n",
        "  print(\"*****************************\")\n",
        "\n",
        "  your_score = 0\n",
        "\n",
        "  for i in range(round):\n",
        "    print(\"Round\", i + 1)\n",
        "\n",
        "    computer_number : int = random.randint(1,100)\n",
        "    your_number:int = random.randint(1,100)\n",
        "    print(\"Your number is\" , your_number)\n",
        "\n",
        "    choice:str = input(\"\"\"Do you think your number is higher or lower than the computer's number? \"\"\")\n",
        "    higher_and_correct:bool = choice == \"higher\" and your_number > computer_number\n",
        "    lower_and_correct:bool = choice == \"lower\" and your_number < computer_number\n",
        "\n",
        "    if higher_and_correct or lower_and_correct:\n",
        "      print(\"You were right! The computer\\'s number was\",computer_number)\n",
        "      your_score += 1\n",
        "    else:\n",
        "      print(\"That\\'s incorrect.The computer\\'s number was\",computer_number)\n",
        "\n",
        "    print(\"Your score is now\",your_score)\n",
        "    print()\n",
        "\n",
        "  print(\"Thanks for playing!\")\n",
        "\n",
        "\n",
        "if __name__ == \"__main__\":\n",
        "  main()\n"
      ]
    },
    {
      "cell_type": "code",
      "execution_count": 15,
      "metadata": {
        "id": "WTrCjlskdQP2",
        "colab": {
          "base_uri": "https://localhost:8080/"
        },
        "outputId": "618b48cf-09d6-4c74-8dbf-3768245c1946"
      },
      "outputs": [
        {
          "output_type": "stream",
          "name": "stdout",
          "text": [
            "planetary_weight_calculator\n",
            "What is your weight on Earth 50\n",
            "your weight on Mars is: 19.0\n"
          ]
        }
      ],
      "source": [
        "# Milestone 1: Mars Weight\n",
        "\n",
        "print(\"planetary_weight_calculator\")\n",
        "\n",
        "MARS_CONSTANT: float = 0.38\n",
        "\n",
        "def get_mars_weight():\n",
        "\n",
        "# 1: Get user Weight\n",
        "\n",
        " user_weight: float = float(input(\"What is your weight on Earth \"))\n",
        "\n",
        " # 2: Find User Weight on Mars\n",
        "\n",
        " mars_weight = round((user_weight * MARS_CONSTANT), 2)\n",
        "\n",
        " return f\"your weight on Mars is: {mars_weight}\"\n",
        "\n",
        "\n",
        "if __name__ == \"__main__\":\n",
        "    print(get_mars_weight())"
      ]
    },
    {
      "cell_type": "code",
      "execution_count": 16,
      "metadata": {
        "id": "q1QYrAEgeOli",
        "colab": {
          "base_uri": "https://localhost:8080/"
        },
        "outputId": "c692e76a-fdce-4b74-c4b9-3a7cf9c23e30"
      },
      "outputs": [
        {
          "output_type": "stream",
          "name": "stdout",
          "text": [
            "planetary_weight_calculator\n",
            "Enter your weight on Earth: 50\n",
            "Enter the name of the planet in our solar system: mars\n",
            "Your weight on Mars is 18.90\n"
          ]
        }
      ],
      "source": [
        "# Milestone 2: Adding in All Planets\n",
        "\n",
        "print(\"planetary_weight_calculator!\")\n",
        "\n",
        "gravity_constants = {\n",
        "\n",
        "      \"Mercury\":0.376,\n",
        "      \"Venus\":0.889,\n",
        "      \"Mars\":0.378,\n",
        "      \"Jupiter\":2.360,\n",
        "      \"Saturn\":1.081,\n",
        "      \"Uranus\":0.815,\n",
        "      \"Neptune\":1.140\n",
        "  }\n",
        "\n",
        "# weight calculation\n",
        "\n",
        "def calculate_weight_on_planet(earth_weight,planet):\n",
        "\n",
        "    if planet in gravity_constants:\n",
        "        weight_on_planet = earth_weight * gravity_constants [planet]\n",
        "        return f\"Your weight on {planet} is {weight_on_planet:.2f}\"\n",
        "    else:\n",
        "        return \"Invalid planet name\"\n",
        "\n",
        "def main():\n",
        "\n",
        "  while True:\n",
        "    try:\n",
        "      earth_weight = float(input(\"Enter your weight on Earth: \"))\n",
        "      break\n",
        "    except ValueError:\n",
        "      print(\"weight Must be a Numeric Value\")\n",
        "\n",
        "  planet = input(\"Enter the name of the planet in our solar system: \").title()\n",
        "  print(calculate_weight_on_planet(earth_weight,planet))\n",
        "\n",
        "if __name__ == \"__main__\":\n",
        "  main()\n",
        "\n",
        "\n"
      ]
    },
    {
      "cell_type": "code",
      "execution_count": 14,
      "metadata": {
        "id": "3Na6_fw2ax3f",
        "colab": {
          "base_uri": "https://localhost:8080/"
        },
        "outputId": "71b84e6d-6ef6-4dcf-8da9-34a331654e7f"
      },
      "outputs": [
        {
          "output_type": "stream",
          "name": "stdout",
          "text": [
            "Lists and Dicts\n",
            "Current list  ['apple', 'mango', 'orange', 'pear', 'peach']\n",
            "Select an operation\n",
            "1. Access Element\n",
            "2. Modify Element\n",
            "3. Slice List\n",
            "4. Quit\n",
            "Enter your choice (1-4): 1\n",
            "Enter the index of the element you want to access: 0\n",
            "Element at index 0: apple\n",
            "Current list  ['apple', 'mango', 'orange', 'pear', 'peach']\n",
            "Select an operation\n",
            "1. Access Element\n",
            "2. Modify Element\n",
            "3. Slice List\n",
            "4. Quit\n",
            "Enter your choice (1-4): 2\n",
            "Enter the index of the element you want to modify: 1\n",
            "Enter the new value for the element: banana\n",
            "Element at index 1 modified from mango to banana\n",
            "Current list  ['apple', 'banana', 'orange', 'pear', 'peach']\n",
            "Select an operation\n",
            "1. Access Element\n",
            "2. Modify Element\n",
            "3. Slice List\n",
            "4. Quit\n",
            "Enter your choice (1-4): 3\n",
            "Enter the start index for the slice: 1\n",
            "Enter the end index for the slice: 3\n",
            "Sliced list: ['banana', 'orange']\n",
            "Current list  ['apple', 'banana', 'orange', 'pear', 'peach']\n",
            "Select an operation\n",
            "1. Access Element\n",
            "2. Modify Element\n",
            "3. Slice List\n",
            "4. Quit\n",
            "Enter your choice (1-4): 4\n",
            "Exiting the game,Thanks for playing.\n",
            "\n",
            " Welcome to the list maniputlation\n"
          ]
        }
      ],
      "source": [
        "\n",
        "print(\"Lists and Dicts\")\n",
        "\n",
        "my_list = [\"apple\",\"mango\",\"orange\",\"pear\",\"peach\"]\n",
        "\n",
        "def access_element(my_list,index):\n",
        "  \"\"\"Returns the element at the specified index, or an error message if out of range.\"\"\"\n",
        "  if 0 <= index < len(my_list):\n",
        "    return f'Element at index {index}: {my_list[index]}'\n",
        "  return \"Index out of range\"\n",
        "\n",
        "def modify_element(my_list,index,new_value):\n",
        "  \"\"\"Modifies the element at the specified index with the new value.\"\"\"\n",
        "  if 0 <= index < len(my_list):\n",
        "    old_value = my_list[index]\n",
        "    my_list[index] = new_value\n",
        "    return f'Element at index {index} modified from {old_value} to {new_value}'\n",
        "  return \"Index out of range\"\n",
        "\n",
        "def slice_list(my_list,start,end):\n",
        "  \"\"\"Returns a new list containing the elements from the start index to the end index (exclusive).\"\"\"\n",
        "  if 0 <= start < len(my_list) and 0 <= end <= len(my_list):\n",
        "    return f'Sliced list: {my_list[start:end]}'\n",
        "  return(\"Invalid slice indicates!\")\n",
        "\n",
        "def list_game():\n",
        "  print(\"\\n Welcome to the list maniputlation\")\n",
        "\n",
        "my_list = [\"apple\",\"mango\",\"orange\",\"pear\",\"peach\"]\n",
        "while True:\n",
        "    print(\"Current list \" , my_list)\n",
        "\n",
        "    print(\"Select an operation\")\n",
        "    print(\"1. Access Element\")\n",
        "    print(\"2. Modify Element\")\n",
        "    print(\"3. Slice List\")\n",
        "    print(\"4. Quit\")\n",
        "\n",
        "    choice = input(\"Enter your choice (1-4): \")\n",
        "\n",
        "    if choice == \"1\":\n",
        "        index = int(input(\"Enter the index of the element you want to access: \"))\n",
        "        print(access_element(my_list,index))\n",
        "    elif choice == \"2\":\n",
        "        index = int(input(\"Enter the index of the element you want to modify: \"))\n",
        "        new_value = input(\"Enter the new value for the element: \")\n",
        "        print(modify_element(my_list,index,new_value))\n",
        "    elif choice == \"3\":\n",
        "        start = int(input(\"Enter the start index for the slice: \"))\n",
        "        end = int(input(\"Enter the end index for the slice: \"))\n",
        "        print(slice_list(my_list,start,end))\n",
        "    elif choice == \"4\":\n",
        "        print(\"Exiting the game,Thanks for playing.\")\n",
        "        break\n",
        "    else:\n",
        "        print(\"Invalid choice! please enter a number between i to 4.\")\n",
        "\n",
        "\n",
        "if __name__ == \"__main__\":\n",
        "    list_game()\n"
      ]
    },
    {
      "cell_type": "code",
      "source": [],
      "metadata": {
        "id": "0QJuidzOruUU"
      },
      "execution_count": null,
      "outputs": []
    }
  ],
  "metadata": {
    "colab": {
      "provenance": [],
      "authorship_tag": "ABX9TyPxnZnpb39flEdyv4mrMsf7",
      "include_colab_link": true
    },
    "kernelspec": {
      "display_name": "Python 3",
      "name": "python3"
    },
    "language_info": {
      "name": "python"
    }
  },
  "nbformat": 4,
  "nbformat_minor": 0
}