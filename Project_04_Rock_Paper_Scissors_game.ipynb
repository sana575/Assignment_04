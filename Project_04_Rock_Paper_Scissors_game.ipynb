{
  "nbformat": 4,
  "nbformat_minor": 0,
  "metadata": {
    "colab": {
      "provenance": [],
      "include_colab_link": true
    },
    "kernelspec": {
      "name": "python3",
      "display_name": "Python 3"
    },
    "language_info": {
      "name": "python"
    }
  },
  "cells": [
    {
      "cell_type": "markdown",
      "metadata": {
        "id": "view-in-github",
        "colab_type": "text"
      },
      "source": [
        "<a href=\"https://colab.research.google.com/github/sana575/Assignment_04/blob/main/Project_04_Rock_Paper_Scissors_game.ipynb\" target=\"_parent\"><img src=\"https://colab.research.google.com/assets/colab-badge.svg\" alt=\"Open In Colab\"/></a>"
      ]
    },
    {
      "cell_type": "markdown",
      "source": [
        "# Project_04_Rock_Paper_Scissors_game"
      ],
      "metadata": {
        "id": "a6ODloE0xG_k"
      }
    },
    {
      "cell_type": "code",
      "execution_count": null,
      "metadata": {
        "colab": {
          "base_uri": "https://localhost:8080/"
        },
        "id": "vRE8OS2hEnKz",
        "outputId": "78c5a46b-7e19-442a-de74-7def14636115"
      },
      "outputs": [
        {
          "output_type": "stream",
          "name": "stdout",
          "text": [
            "Welcome to Rock, Paper, Scissors Game!\n",
            "Enter your choice (rock, paper, scissors): paper\n",
            "You chose: paper\n",
            "Computer chose: rock\n",
            "You win!\n"
          ]
        }
      ],
      "source": [
        "import random\n",
        "\n",
        "# Function to get the user's choice\n",
        "def get_user_choice():\n",
        "    user_input = input(\"Enter your choice (rock, paper, scissors): \").lower()\n",
        "    if user_input in [\"rock\", \"paper\", \"scissors\"]:\n",
        "        return user_input\n",
        "    else:\n",
        "        print(\"Invalid choice! Please try again.\")\n",
        "        return get_user_choice()\n",
        "\n",
        "# Function to get the computer's choice\n",
        "def get_computer_choice():\n",
        "    choices = [\"rock\", \"paper\", \"scissors\"]\n",
        "    return random.choice(choices)\n",
        "\n",
        "# Function to determine the winner\n",
        "def determine_winner(user_choice, computer_choice):\n",
        "    if user_choice == computer_choice:\n",
        "        return \"It's a tie!\"\n",
        "    elif (user_choice == \"rock\" and computer_choice == \"scissors\") or \\\n",
        "         (user_choice == \"paper\" and computer_choice == \"rock\") or \\\n",
        "         (user_choice == \"scissors\" and computer_choice == \"paper\"):\n",
        "        return \"You win!\"\n",
        "    else:\n",
        "        return \"You lose!\"\n",
        "\n",
        "# Main function to run the game\n",
        "def main():\n",
        "    print(\"Welcome to Rock, Paper, Scissors Game!\")\n",
        "\n",
        "    user_choice = get_user_choice()\n",
        "    computer_choice = get_computer_choice()\n",
        "\n",
        "    print(f\"You chose: {user_choice}\")\n",
        "    print(f\"Computer chose: {computer_choice}\")\n",
        "\n",
        "    result = determine_winner(user_choice, computer_choice)\n",
        "    print(result)\n",
        "\n",
        "if __name__ == \"__main__\":\n",
        "    main()\n"
      ]
    }
  ]
}