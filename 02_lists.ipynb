{
  "cells": [
    {
      "cell_type": "markdown",
      "metadata": {
        "id": "view-in-github",
        "colab_type": "text"
      },
      "source": [
        "<a href=\"https://colab.research.google.com/github/sana575/Assignment_04/blob/main/02_lists.ipynb\" target=\"_parent\"><img src=\"https://colab.research.google.com/assets/colab-badge.svg\" alt=\"Open In Colab\"/></a>"
      ]
    },
    {
      "cell_type": "code",
      "execution_count": null,
      "metadata": {
        "colab": {
          "base_uri": "https://localhost:8080/"
        },
        "id": "ow_ELTCU4FNW",
        "outputId": "22136bb3-2520-4b8e-cab6-69d7173fd76a"
      },
      "outputs": [
        {
          "output_type": "stream",
          "name": "stdout",
          "text": [
            "01_add_many_number\n",
            "15\n"
          ]
        }
      ],
      "source": [
        "print(\"01_add_many_number\")\n",
        "\n",
        "def add_many_numbers(numbers)->int:\n",
        "  num:int = 0\n",
        "  for i in numbers:\n",
        "    num += i\n",
        "  return num\n",
        "def main():\n",
        "  numbers:list[int] = [1,2,3,4,5]\n",
        "  sum = add_many_numbers(numbers)\n",
        "  print(sum)\n",
        "\n",
        "\n",
        "if __name__ == \"__main__\":\n",
        "  main()"
      ]
    },
    {
      "cell_type": "code",
      "execution_count": null,
      "metadata": {
        "colab": {
          "base_uri": "https://localhost:8080/"
        },
        "id": "EzxQ72btGOLv",
        "outputId": "82e5734b-cf93-4d7f-db26-b34fadb14dad"
      },
      "outputs": [
        {
          "output_type": "stream",
          "name": "stdout",
          "text": [
            "02_double_list\n",
            "[2, 4, 6, 8]\n"
          ]
        }
      ],
      "source": [
        "print(\"02_double_list\")\n",
        "\n",
        "def main():\n",
        "  numbers: list[int] = [1,2,3,4,]\n",
        "\n",
        "  for i in range(len(numbers)):\n",
        "    elem_at_index = numbers[i]\n",
        "    numbers[i] = elem_at_index * 2\n",
        "  print(numbers)\n",
        "\n",
        "if __name__ == \"__main__\":\n",
        "  main()\n",
        "\n"
      ]
    },
    {
      "cell_type": "code",
      "execution_count": null,
      "metadata": {
        "colab": {
          "base_uri": "https://localhost:8080/"
        },
        "id": "DbVboG2VLcpU",
        "outputId": "d1dbe4a0-fc3c-4a00-8f9b-168dcb514381"
      },
      "outputs": [
        {
          "name": "stdout",
          "output_type": "stream",
          "text": [
            "04_flowing_with_data_structures\n",
            "Enter a message to copy: My name is sana\n",
            "List before: []\n",
            "List after: ['My name is sana', 'My name is sana', 'My name is sana']\n"
          ]
        }
      ],
      "source": [
        "print(\"04_flowing_with_data_structures\")\n",
        "\n",
        "def add_three_copies(my_list, data):\n",
        "    for i in range(3):\n",
        "        my_list.append(data)\n",
        "\n",
        "\n",
        "def main():\n",
        "    message = input(\"Enter a message to copy: \")\n",
        "    my_list = []\n",
        "    print(\"List before:\", my_list)\n",
        "    add_three_copies(my_list, message)\n",
        "    print(\"List after:\", my_list)\n",
        "\n",
        "if __name__ == \"__main__\":\n",
        "    main()"
      ]
    },
    {
      "cell_type": "code",
      "execution_count": null,
      "metadata": {
        "colab": {
          "base_uri": "https://localhost:8080/"
        },
        "id": "E0_4CNMBMoxC",
        "outputId": "615888d1-7fd6-4a75-8c7e-ad9a166ae9dc"
      },
      "outputs": [
        {
          "output_type": "stream",
          "name": "stdout",
          "text": [
            "05_get_first_element.\n",
            "Please enter an element of the list or press enter to stop.d\n",
            "Please enter an element of the list or press enter to stop. u\n",
            "Please enter an element of the list or press enter to stop. j\n",
            "Please enter an element of the list or press enter to stop. \n",
            "d\n"
          ]
        }
      ],
      "source": [
        "\n",
        "print(\"05_get_first_element.\")\n",
        "\n",
        "def get_frist_element(lst):\n",
        "  print(lst[0])\n",
        "\n",
        "def get_list():\n",
        "  lst =[]\n",
        "  elem:str = input(\"Please enter an element of the list or press enter to stop.\")\n",
        "  while elem != \"\":\n",
        "     lst.append(elem)\n",
        "     elem:str =input(\"Please enter an element of the list or press enter to stop. \")\n",
        "  return lst\n",
        "\n",
        "def main():\n",
        "  lst = get_list()\n",
        "  get_frist_element(lst)\n",
        "\n",
        "if __name__ == '__main__':\n",
        "    main()"
      ]
    },
    {
      "cell_type": "code",
      "execution_count": null,
      "metadata": {
        "colab": {
          "base_uri": "https://localhost:8080/"
        },
        "id": "cfKhUQOiRhvP",
        "outputId": "dd12e436-e419-49f6-983e-59170486cc06"
      },
      "outputs": [
        {
          "output_type": "stream",
          "name": "stdout",
          "text": [
            "06_get_last_element\n",
            "Please enter an element of the list or press enter to stop.p\n",
            "Please enter an element of the list or press enter to stop. k\n",
            "Please enter an element of the list or press enter to stop. s\n",
            "Please enter an element of the list or press enter to stop. \n",
            "s\n"
          ]
        }
      ],
      "source": [
        "print(\"06_get_last_element\")\n",
        "\n",
        "\n",
        "def get_last_element(lst):\n",
        "  print(lst[-1])\n",
        "\n",
        "def get_list():\n",
        "  lst =[]\n",
        "  elem:str = input(\"Please enter an element of the list or press enter to stop.\")\n",
        "  while elem != \"\":\n",
        "     lst.append(elem)\n",
        "     elem:str =input(\"Please enter an element of the list or press enter to stop. \")\n",
        "  return lst\n",
        "def main():\n",
        "  lst = get_list()\n",
        "  get_last_element(lst)\n",
        "\n",
        "\n",
        "if __name__ == '__main__':\n",
        "    main()\n",
        "\n"
      ]
    },
    {
      "cell_type": "code",
      "execution_count": 10,
      "metadata": {
        "id": "W9wELGwjTT_A",
        "colab": {
          "base_uri": "https://localhost:8080/"
        },
        "outputId": "5160991f-44e7-4696-a083-4fba75962a1f"
      },
      "outputs": [
        {
          "output_type": "stream",
          "name": "stdout",
          "text": [
            "07_get_list\n",
            "Enter a value to add to the list: gh\n",
            "Enter a value to add to the list: jh\n",
            "Enter a value to add to the list: \n",
            "Here's tha list: ['gh', 'jh']\n"
          ]
        }
      ],
      "source": [
        "print(\"07_get_list\")\n",
        "\n",
        "def main():\n",
        "  lst = []\n",
        "  val = input(\"Enter a value to add to the list: \")\n",
        "  while val:\n",
        "    lst.append(val)\n",
        "    val = input(\"Enter a value to add to the list: \")\n",
        "\n",
        "  print(\"Here's tha list:\", lst)\n",
        "\n",
        "if __name__ == \"__main__\":\n",
        "  main()\n"
      ]
    },
    {
      "cell_type": "code",
      "execution_count": 14,
      "metadata": {
        "id": "xDhaD6KMVZa9",
        "colab": {
          "base_uri": "https://localhost:8080/"
        },
        "outputId": "27d51d9d-318d-4fc4-bcb2-041f5cf28cc4"
      },
      "outputs": [
        {
          "output_type": "stream",
          "name": "stdout",
          "text": [
            "08_shorten\n",
            "Please enter an element of the list or press enter to stop. l\n",
            "Please enter an element of the list or press enter to stop. o\n",
            "Please enter an element of the list or press enter to stop. j\n",
            "Please enter an element of the list or press enter to stop. g\n",
            "Please enter an element of the list or press enter to stop. o\n",
            "Please enter an element of the list or press enter to stop. p\n",
            "Please enter an element of the list or press enter to stop. \n",
            "p\n",
            "o\n",
            "g\n"
          ]
        }
      ],
      "source": [
        "print(\"08_shorten\")\n",
        "\n",
        "MAX_LENGTH : int = 3\n",
        "def shorten(lst):\n",
        "  while len(lst) > MAX_LENGTH:\n",
        "    last_elem = lst.pop()\n",
        "    print(last_elem)\n",
        "\n",
        "def get_lst():\n",
        "  lst = []\n",
        "\n",
        "  elem = input(\"Please enter an element of the list or press enter to stop. \")\n",
        "  while elem != \"\":\n",
        "    lst.append(elem)\n",
        "    elem = input(\"Please enter an element of the list or press enter to stop. \")\n",
        "  return lst\n",
        "\n",
        "def main():\n",
        "  lst = get_lst()\n",
        "  shorten(lst)\n",
        "\n",
        "\n",
        "if __name__ == \"__main__\":\n",
        "  main()\n"
      ]
    }
  ],
  "metadata": {
    "colab": {
      "provenance": [],
      "authorship_tag": "ABX9TyMYVIxzNeCSAji2x/wNx8W/",
      "include_colab_link": true
    },
    "kernelspec": {
      "display_name": "Python 3",
      "name": "python3"
    },
    "language_info": {
      "name": "python"
    }
  },
  "nbformat": 4,
  "nbformat_minor": 0
}